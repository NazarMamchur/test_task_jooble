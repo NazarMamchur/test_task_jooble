{
 "cells": [
  {
   "cell_type": "code",
   "execution_count": 1,
   "metadata": {},
   "outputs": [],
   "source": [
    "from pyspark.sql import SparkSession\n",
    "from pyspark.sql import functions as F"
   ]
  },
  {
   "cell_type": "code",
   "execution_count": 2,
   "metadata": {},
   "outputs": [],
   "source": [
    "spark = SparkSession\\\n",
    "    .builder\\\n",
    "    .appName('test_task')\\\n",
    "    .getOrCreate()"
   ]
  },
  {
   "cell_type": "code",
   "execution_count": 53,
   "metadata": {},
   "outputs": [],
   "source": [
    "train = spark.read.option(\"header\",\"true\").csv('./data/train.csv')\n",
    "test = spark.read.option(\"header\",\"true\").csv('./data/test.csv')"
   ]
  },
  {
   "cell_type": "code",
   "execution_count": 54,
   "metadata": {},
   "outputs": [
    {
     "data": {
      "text/plain": [
       "['features_type_1_stand_0',\n",
       " 'features_type_1_stand_1',\n",
       " 'features_type_1_stand_2',\n",
       " 'features_type_1_stand_3',\n",
       " 'features_type_1_stand_4',\n",
       " 'features_type_1_stand_5',\n",
       " 'features_type_1_stand_6',\n",
       " 'features_type_1_stand_7',\n",
       " 'features_type_1_stand_8',\n",
       " 'features_type_1_stand_9']"
      ]
     },
     "execution_count": 54,
     "metadata": {},
     "output_type": "execute_result"
    }
   ],
   "source": [
    "cols_to_agg = [col for col in test.columns if 'feature_type' in col]\n",
    "new_col_names = ['features_type_' + col[-3] +'_stand_' + col[-1] for col in cols_to_agg]\n",
    "new_col_names"
   ]
  },
  {
   "cell_type": "code",
   "execution_count": 55,
   "metadata": {},
   "outputs": [],
   "source": [
    "for col_to_agg, new_col in zip(cols_to_agg, new_col_names):\n",
    "    avg = test.select(F.avg(F.col(col_to_agg))).collect()[0][0]\n",
    "    std = test.select(F.stddev(F.col(col_to_agg))).collect()[0][0]\n",
    "    test = test.withColumn(new_col, (test[col_to_agg] - avg) / std)"
   ]
  },
  {
   "cell_type": "code",
   "execution_count": 56,
   "metadata": {},
   "outputs": [],
   "source": [
    "cond = \"F.when\" + \".when\".join([\"(F.col('\" + col + \"') == F.col('max_value'), F.lit('\" + col[-1] + \"'))\" for col in new_col_names])\n",
    "test = test.withColumn(\"max_value\", F.greatest(*new_col_names))\\\n",
    "           .withColumn(\"max_feature_type_1_index\", eval(cond))"
   ]
  },
  {
   "cell_type": "code",
   "execution_count": 57,
   "metadata": {},
   "outputs": [],
   "source": [
    "test_transformed = test.select(F.col('id_job'), *new_col_names, 'max_feature_type_1_index')"
   ]
  },
  {
   "cell_type": "code",
   "execution_count": 58,
   "metadata": {},
   "outputs": [],
   "source": [
    "test_transformed.toPandas().to_csv('test_transformed.csv')"
   ]
  },
  {
   "cell_type": "code",
   "execution_count": null,
   "metadata": {},
   "outputs": [],
   "source": []
  }
 ],
 "metadata": {
  "kernelspec": {
   "display_name": "Python 3",
   "language": "python",
   "name": "python3"
  },
  "language_info": {
   "codemirror_mode": {
    "name": "ipython",
    "version": 3
   },
   "file_extension": ".py",
   "mimetype": "text/x-python",
   "name": "python",
   "nbconvert_exporter": "python",
   "pygments_lexer": "ipython3",
   "version": "3.7.1"
  }
 },
 "nbformat": 4,
 "nbformat_minor": 2
}
